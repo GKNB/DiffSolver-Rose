{
 "cells": [
  {
   "cell_type": "code",
   "execution_count": 1,
   "id": "787c7993",
   "metadata": {},
   "outputs": [],
   "source": [
    "datasetDict = {\"All\" : [\"/test.csv\", \"/train.csv\"], \"AllSub\" : [\"/testSub.csv\", \"/trainSub.csv\"], \"AllHalf\" : [\"/testHalf.csv\", \"/trainHalf.csv\"], \"AllDouble\" : [\"/test2:1.csv\", \"/train2:1.csv\"], \"AllFourth\" : [\"/test4:1.csv\", \"/train4:1.csv\"]}"
   ]
  },
  {
   "cell_type": "code",
   "execution_count": 5,
   "id": "5529137b",
   "metadata": {},
   "outputs": [
    {
     "name": "stdout",
     "output_type": "stream",
     "text": [
      "Yes /train.csv\n"
     ]
    }
   ],
   "source": [
    "dataset=\"All\"\n",
    "if dataset in datasetDict.keys():\n",
    "    print(\"Yes\", datasetDict[dataset][1])"
   ]
  },
  {
   "cell_type": "code",
   "execution_count": null,
   "id": "fcbf25ff",
   "metadata": {},
   "outputs": [],
   "source": []
  },
  {
   "cell_type": "code",
   "execution_count": 6,
   "id": "a3f68d20",
   "metadata": {},
   "outputs": [],
   "source": [
    "from datetime import datetime"
   ]
  },
  {
   "cell_type": "code",
   "execution_count": 12,
   "id": "2048c39f",
   "metadata": {},
   "outputs": [
    {
     "data": {
      "text/plain": [
       "'2022-01-22'"
      ]
     },
     "execution_count": 12,
     "metadata": {},
     "output_type": "execute_result"
    }
   ],
   "source": [
    "str(datetime.now()).split(\" \")[0]"
   ]
  },
  {
   "cell_type": "code",
   "execution_count": null,
   "id": "35e176f3",
   "metadata": {},
   "outputs": [],
   "source": []
  }
 ],
 "metadata": {
  "kernelspec": {
   "display_name": "Python 3",
   "language": "python",
   "name": "python3"
  },
  "language_info": {
   "codemirror_mode": {
    "name": "ipython",
    "version": 3
   },
   "file_extension": ".py",
   "mimetype": "text/x-python",
   "name": "python",
   "nbconvert_exporter": "python",
   "pygments_lexer": "ipython3",
   "version": "3.9.5"
  }
 },
 "nbformat": 4,
 "nbformat_minor": 5
}
