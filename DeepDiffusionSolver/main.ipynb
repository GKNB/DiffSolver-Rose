{
 "cells": [
  {
   "cell_type": "code",
   "execution_count": 1,
   "id": "ad45a484",
   "metadata": {},
   "outputs": [
    {
     "name": "stdout",
     "output_type": "stream",
     "text": [
      "Tue Nov  2 20:21:16 2021       \n",
      "+-----------------------------------------------------------------------------+\n",
      "| NVIDIA-SMI 470.57.02    Driver Version: 470.57.02    CUDA Version: 11.4     |\n",
      "|-------------------------------+----------------------+----------------------+\n",
      "| GPU  Name        Persistence-M| Bus-Id        Disp.A | Volatile Uncorr. ECC |\n",
      "| Fan  Temp  Perf  Pwr:Usage/Cap|         Memory-Usage | GPU-Util  Compute M. |\n",
      "|                               |                      |               MIG M. |\n",
      "|===============================+======================+======================|\n",
      "|   0  Quadro RTX 6000     On   | 00000000:3B:00.0 Off |                    0 |\n",
      "| N/A   29C    P8    15W / 250W |    101MiB / 22698MiB |      0%      Default |\n",
      "|                               |                      |                  N/A |\n",
      "+-------------------------------+----------------------+----------------------+\n",
      "|   1  Quadro RTX 6000     On   | 00000000:5E:00.0 Off |                    0 |\n",
      "| N/A   82C    P0   104W / 250W |  18800MiB / 22698MiB |    100%      Default |\n",
      "|                               |                      |                  N/A |\n",
      "+-------------------------------+----------------------+----------------------+\n",
      "|   2  Quadro RTX 6000     On   | 00000000:AF:00.0 Off |                    0 |\n",
      "| N/A   82C    P0   208W / 250W |  20004MiB / 22698MiB |    100%      Default |\n",
      "|                               |                      |                  N/A |\n",
      "+-------------------------------+----------------------+----------------------+\n",
      "|   3  Quadro RTX 6000     On   | 00000000:D8:00.0 Off |                    0 |\n",
      "| N/A   40C    P8    17W / 250W |      3MiB / 22698MiB |      0%      Default |\n",
      "|                               |                      |                  N/A |\n",
      "+-------------------------------+----------------------+----------------------+\n",
      "                                                                               \n",
      "+-----------------------------------------------------------------------------+\n",
      "| Processes:                                                                  |\n",
      "|  GPU   GI   CI        PID   Type   Process name                  GPU Memory |\n",
      "|        ID   ID                                                   Usage      |\n",
      "|=============================================================================|\n",
      "|    1   N/A  N/A    997924      C   python                          18797MiB |\n",
      "|    2   N/A  N/A    997924      C   python                          20001MiB |\n",
      "+-----------------------------------------------------------------------------+\n"
     ]
    }
   ],
   "source": [
    "import os\n",
    "import torch\n",
    "import trainers\n",
    "import csv\n",
    "!nvidia-smi"
   ]
  },
  {
   "cell_type": "code",
   "execution_count": 2,
   "id": "5ce33f6f",
   "metadata": {},
   "outputs": [
    {
     "name": "stdout",
     "output_type": "stream",
     "text": [
      "3\r\n"
     ]
    }
   ],
   "source": [
    "cuda_device_idx = \"3\"\n",
    "os.environ[\"CUDA_VISIBLE_DEVICES\"] = cuda_device_idx\n",
    "!echo $CUDA_VISIBLE_DEVICES"
   ]
  },
  {
   "cell_type": "code",
   "execution_count": 3,
   "id": "f5b051d8",
   "metadata": {},
   "outputs": [],
   "source": [
    "device = torch.device(\"cuda:0\" if torch.cuda.is_available() else \"cpu\")\n",
    "save_loc = r'/scratch/jferrari/diffusion-ai-results/log-transform/diff-N-training'\n",
    "if not os.path.isdir(save_loc):\n",
    "    os.mkdir(save_loc)\n",
    "\n",
    "load_loc = r\"/scratch/jferrari/ten_twenty_data_set\"\n",
    "dataset_name = '1SourcesRdm'\n",
    "\n",
    "if not os.path.isdir(save_loc):\n",
    "    os.mkdir(save_loc)\n",
    "save_loc = os.path.join(save_loc,dataset_name)\n",
    "BATCH_SIZE = 25\n",
    "NUM_WORKERS = 4\n",
    "lr = 0.0001"
   ]
  },
  {
   "cell_type": "code",
   "execution_count": 4,
   "id": "d4c27551",
   "metadata": {},
   "outputs": [],
   "source": [
    "trainer = trainers.DeepDiffusionTrainer(device=device, std_tr=0.01, s=512)"
   ]
  },
  {
   "cell_type": "code",
   "execution_count": 5,
   "id": "a748b666",
   "metadata": {},
   "outputs": [
    {
     "name": "stdout",
     "output_type": "stream",
     "text": [
      "Save location: /scratch/jferrari/diffusion-ai-results/log-transform/diff-N-training/1SourcesRdm/2021-11-02-20-21-17\n"
     ]
    },
    {
     "name": "stderr",
     "output_type": "stream",
     "text": [
      "/scratch/jferrari/miniconda3_install/lib/python3.9/site-packages/torchvision/transforms/transforms.py:257: UserWarning: Argument interpolation should be of type InterpolationMode instead of int. Please, use InterpolationMode enum.\n",
      "  warnings.warn(\n"
     ]
    },
    {
     "ename": "TypeError",
     "evalue": "my_loss() missing 1 required positional argument: 'target'",
     "output_type": "error",
     "traceback": [
      "\u001b[0;31m---------------------------------------------------------------------------\u001b[0m",
      "\u001b[0;31mTypeError\u001b[0m                                 Traceback (most recent call last)",
      "\u001b[0;32m<ipython-input-5-15a57e710601>\u001b[0m in \u001b[0;36m<module>\u001b[0;34m\u001b[0m\n\u001b[1;32m      1\u001b[0m \u001b[0merror_list\u001b[0m\u001b[0;34m,\u001b[0m \u001b[0mtest_error\u001b[0m\u001b[0;34m,\u001b[0m \u001b[0mtest_error_plus\u001b[0m\u001b[0;34m,\u001b[0m \u001b[0mtest_error_minus\u001b[0m\u001b[0;34m,\u001b[0m \u001b[0msave_loc\u001b[0m \u001b[0;34m=\u001b[0m\u001b[0;31m \u001b[0m\u001b[0;31m\\\u001b[0m\u001b[0;34m\u001b[0m\u001b[0;34m\u001b[0m\u001b[0m\n\u001b[0;32m----> 2\u001b[0;31m         trainer.train_diff_solver(load_loc, save_loc, lr, BATCH_SIZE, NUM_WORKERS,\n\u001b[0m\u001b[1;32m      3\u001b[0m                                   dataset_name=dataset_name, transformation='log')\n",
      "\u001b[0;32m/nfs/nfs7/home/jferrari/DeepDiffusionSolver/trainers/DeepDiffusion.py\u001b[0m in \u001b[0;36mtrain_diff_solver\u001b[0;34m(self, load_loc, save_loc, lr, BATCH_SIZE, NUM_WORKERS, epochs, snap, dataset_name, transformation)\u001b[0m\n\u001b[1;32m    104\u001b[0m                 \u001b[0my\u001b[0m \u001b[0;34m=\u001b[0m \u001b[0mdata\u001b[0m\u001b[0;34m[\u001b[0m\u001b[0;36m1\u001b[0m\u001b[0;34m]\u001b[0m\u001b[0;34m.\u001b[0m\u001b[0mto\u001b[0m\u001b[0;34m(\u001b[0m\u001b[0mself\u001b[0m\u001b[0;34m.\u001b[0m\u001b[0mdevice\u001b[0m\u001b[0;34m)\u001b[0m\u001b[0;34m\u001b[0m\u001b[0;34m\u001b[0m\u001b[0m\n\u001b[1;32m    105\u001b[0m                 \u001b[0myhat\u001b[0m \u001b[0;34m=\u001b[0m \u001b[0mdiff_solver\u001b[0m\u001b[0;34m(\u001b[0m\u001b[0mx\u001b[0m\u001b[0;34m)\u001b[0m\u001b[0;34m\u001b[0m\u001b[0;34m\u001b[0m\u001b[0m\n\u001b[0;32m--> 106\u001b[0;31m                 \u001b[0merr\u001b[0m \u001b[0;34m=\u001b[0m \u001b[0mcriterion\u001b[0m\u001b[0;34m(\u001b[0m\u001b[0myhat\u001b[0m\u001b[0;34m,\u001b[0m \u001b[0my\u001b[0m\u001b[0;34m)\u001b[0m\u001b[0;34m\u001b[0m\u001b[0;34m\u001b[0m\u001b[0m\n\u001b[0m\u001b[1;32m    107\u001b[0m                 \u001b[0merr\u001b[0m\u001b[0;34m.\u001b[0m\u001b[0mbackward\u001b[0m\u001b[0;34m(\u001b[0m\u001b[0;34m)\u001b[0m\u001b[0;34m\u001b[0m\u001b[0;34m\u001b[0m\u001b[0m\n\u001b[1;32m    108\u001b[0m                 \u001b[0mopt\u001b[0m\u001b[0;34m.\u001b[0m\u001b[0mstep\u001b[0m\u001b[0;34m(\u001b[0m\u001b[0;34m)\u001b[0m\u001b[0;34m\u001b[0m\u001b[0;34m\u001b[0m\u001b[0m\n",
      "\u001b[0;31mTypeError\u001b[0m: my_loss() missing 1 required positional argument: 'target'"
     ]
    }
   ],
   "source": [
    "error_list, test_error, test_error_plus, test_error_minus, save_loc = \\\n",
    "        trainer.train_diff_solver(load_loc, save_loc, lr, BATCH_SIZE, NUM_WORKERS,\n",
    "                                  dataset_name=dataset_name, transformation='log')"
   ]
  },
  {
   "cell_type": "code",
   "execution_count": null,
   "id": "bc1eac6c",
   "metadata": {},
   "outputs": [],
   "source": [
    "with open(os.path.join(save_loc, 'train_error.csv'), 'w+') as f:\n",
    "    writer = csv.writer(f)\n",
    "    writer.writerow(error_list)\n",
    "with open(os.path.join(save_loc, 'test_error.csv'), 'w+') as f:\n",
    "    writer = csv.writer(f)\n",
    "    writer.writerow(test_error)\n",
    "if len(test_error_plus):\n",
    "    with open(os.path.join(save_loc, 'test_N+1_error.csv'), 'w+') as f:\n",
    "        writer = csv.writer(f)\n",
    "        writer.writerow(test_error_plus)\n",
    "if len(test_error_minus):\n",
    "    with open(os.path.join(save_loc, 'test_N-1_error.csv'), 'w+') as f:\n",
    "        writer = csv.writer(f)\n",
    "        writer.writerow(test_error_minus)"
   ]
  },
  {
   "cell_type": "code",
   "execution_count": null,
   "id": "093773c5",
   "metadata": {},
   "outputs": [],
   "source": []
  }
 ],
 "metadata": {
  "kernelspec": {
   "display_name": "Python 3",
   "language": "python",
   "name": "python3"
  },
  "language_info": {
   "codemirror_mode": {
    "name": "ipython",
    "version": 3
   },
   "file_extension": ".py",
   "mimetype": "text/x-python",
   "name": "python",
   "nbconvert_exporter": "python",
   "pygments_lexer": "ipython3",
   "version": "3.9.2"
  }
 },
 "nbformat": 4,
 "nbformat_minor": 5
}
